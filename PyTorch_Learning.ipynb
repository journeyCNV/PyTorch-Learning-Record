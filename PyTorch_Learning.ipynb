{
 "cells": [
  {
   "cell_type": "code",
   "execution_count": 1,
   "metadata": {},
   "outputs": [
    {
     "name": "stdout",
     "output_type": "stream",
     "text": [
      "1.4.0+cpu\n"
     ]
    }
   ],
   "source": [
    "import torch\n",
    "print(torch.__version__)"
   ]
  },
  {
   "cell_type": "code",
   "execution_count": 2,
   "metadata": {},
   "outputs": [
    {
     "name": "stdout",
     "output_type": "stream",
     "text": [
      "tensor([4, 6])\n",
      "tensor([1, 2])\n",
      "tensor([4, 6])\n"
     ]
    }
   ],
   "source": [
    "#Tensor 神经网络界的Numpy\n",
    "\"\"\"\n",
    "1)torch.function   torch.sum,torch.add\n",
    "\n",
    "2)tensor.function   tensor.view.tensor.add\n",
    "\n",
    "\"\"\"\n",
    "\n",
    "x=torch.tensor([1,2])\n",
    "y=torch.tensor([3,4])\n",
    "z=x.add(y)\n",
    "print(z)\n",
    "print(x)\n",
    "x.add_(y)  #x.add(y) 不改变x的值，x.add_(y)改变x的值\n",
    "print(x)"
   ]
  },
  {
   "cell_type": "code",
   "execution_count": 3,
   "metadata": {},
   "outputs": [
    {
     "name": "stdout",
     "output_type": "stream",
     "text": [
      "torch.Size([2, 3])\n",
      "torch.Size([2, 3])\n"
     ]
    }
   ],
   "source": [
    "#创建Tensor\n",
    "\"\"\"\n",
    "Tensor(*size)  直接从参数构造一个的张量，支持List,Numpy数组\n",
    "eye(row,column) 指定行列创建\n",
    "linspace(start,end,steps) 从start到end,均匀分成steps份\n",
    "logspace(start,end,steps) 从10^start……\n",
    "rand/randn(*size) 生成[0,1)均匀分布/标准正太分布数据\n",
    "ones(*size)返回指定shape的张量，元素初始为1\n",
    "zeros(*size) ……\n",
    "ones_like(t)\n",
    "zeros_like(t)\n",
    "arange(start,end,step) 在区间上以间隔step生成一个序列张量\n",
    "from_Numpy(ndarray) 从ndarray创建一个Tensor\n",
    "\n",
    "\"\"\"\n",
    "t=torch.Tensor([[1,2,3],[1,2,3]])\n",
    "print(t.size())\n",
    "print(t.shape)"
   ]
  },
  {
   "cell_type": "code",
   "execution_count": 4,
   "metadata": {},
   "outputs": [
    {
     "name": "stdout",
     "output_type": "stream",
     "text": [
      "t1的值tensor([0.]),t1的类型torch.FloatTensor\n",
      "t2的值1,t2的类型torch.LongTensor\n"
     ]
    }
   ],
   "source": [
    "\"\"\"\n",
    " torch.Tensor是 torch.empty和torch.tensor之间的一种混合，\n",
    " 但是当传入数据时，torch.Tensor使用全局默认dtype(FloatTensor),\n",
    " 而.tensor是从数据中推断数据类型\n",
    " \n",
    " torch.tensor(1)返回固定值1，而torch.Tensor(1)返回一个大小为1的张量，随机初始化值\n",
    "\"\"\"\n",
    "t1=torch.Tensor(1)\n",
    "t2=torch.tensor(1)\n",
    "print(f\"t1的值{t1},t1的类型{t1.type()}\")\n",
    "print(f\"t2的值{t2},t2的类型{t2.type()}\")"
   ]
  },
  {
   "cell_type": "code",
   "execution_count": 5,
   "metadata": {},
   "outputs": [
    {
     "name": "stdout",
     "output_type": "stream",
     "text": [
      "torch.Size([2, 3])\n",
      "2\n",
      "tensor([[ 1.2767,  0.7837],\n",
      "        [ 0.9792,  1.1593],\n",
      "        [ 0.3983, -0.7705]])\n",
      "torch.Size([6])\n",
      "torch.Size([1, 6])\n",
      "6\n"
     ]
    }
   ],
   "source": [
    "\"\"\"\n",
    "numel(input)计算Tensor的元素个数\n",
    "view(*shape)修改Tensor的shape,与Reshape类似，返回对象与源共用内存，修改一个另一个也变\n",
    "Reshape就是生成新的  view(-1)展平数组\n",
    "resize 类似于view,但在size超出时会重新分配内存\n",
    "item若Tensor为单元素，则返回Python的标量\n",
    "unsqueeze 在指定维度增加一个\"1\" dim=2  A*B-->A*B*1\n",
    "squeeze 在指定维度压缩一个\"1\" A*B*1 dim=2 A*B 如果不指定，将删除所有维数为1的维度\n",
    "\"\"\"\n",
    "x=torch.randn(2,3)\n",
    "print(x.size())\n",
    "print(x.dim())  #维度\n",
    "print(x.view(3,2))\n",
    "y=x.view(-1)\n",
    "print(y.shape)\n",
    "z=torch.unsqueeze(y,0)\n",
    "print(z.size())\n",
    "print(z.numel())"
   ]
  },
  {
   "cell_type": "code",
   "execution_count": 6,
   "metadata": {},
   "outputs": [
    {
     "data": {
      "text/plain": [
       "'\\nreshape()可以由torch.reshape(),也可由torch.Tensor.reshape()调用\\n但view()只可由torch.Tensor.view()来调用\\n\\nview的Tensor新size必须与原来的size与stride兼容\\n否则在View前需要调用contiguous()方法\\n\\n同样也是返回与input数据量相同，但形状不同的Tensor。若满足view的条件，\\n则不会有copy,若不满足，则会copy。\\n\\n如果只是想重塑张量，使用reshape。如果想共享内存，view\\n\\n'"
      ]
     },
     "execution_count": 6,
     "metadata": {},
     "output_type": "execute_result"
    }
   ],
   "source": [
    "\"\"\"\n",
    "reshape()可以由torch.reshape(),也可由torch.Tensor.reshape()调用\n",
    "但view()只可由torch.Tensor.view()来调用\n",
    "\n",
    "view的Tensor新size必须与原来的size与stride兼容\n",
    "否则在View前需要调用contiguous()方法\n",
    "\n",
    "同样也是返回与input数据量相同，但形状不同的Tensor。若满足view的条件，\n",
    "则不会有copy,若不满足，则会copy。\n",
    "\n",
    "如果只是想重塑张量，使用reshape。如果想共享内存，view\n",
    "\n",
    "\"\"\"\n",
    "#Torch中的dot和numpy中不一样，Torch中分1D2D3D"
   ]
  },
  {
   "cell_type": "code",
   "execution_count": 7,
   "metadata": {},
   "outputs": [
    {
     "data": {
      "text/plain": [
       "'\\n求导\\n1.创建叶子节点的Tensor,使用requires_gard参数指定是否记录对其的操作，\\n以便以后利用backward()方法进行梯度求解，参数的缺省值为False,如果要对其\\n求需设置成True,然后与之有依赖关系的节点会自动变为True。\\n2.可利用requires_grad_()方法修改Tensor的requires_gard属性，\\n可以调用.detach()或withtorch.no_grad():将不再计算张量的梯度，\\n跟踪张量的历史记录。这点在评估模型、测试中常常用到。\\n3.通过运算创建的Tensor(非叶子节点)，会自动被赋予grad_fn属性。\\n该属性表示梯度函数。叶子节点的grad_fn为None\\n4.最后得到的Tensor执行backward函数，此时自动计算各变量的梯度，\\n并将结果保存到grad属性中。计算完成后，非叶子节点的梯度自动释放。\\n5.backward()函数接收参数，该参数应和调用backward()函数的Tensor维度相同，\\n或者是可broadcast的维度。\\n6.反向传播的中间缓存会被清空，如果需要进行多次反向传播，需要指定backward中\\n的参数retain_graph=True,多次反向传播时，梯度是累加的。\\n7.非叶子节点的梯度backward调用后即被清空\\n8.可以通过torch.no_gard()包裹代码块的形式阻止autograd去跟踪那些requires_gard标记为True的\\n张量的历史记录\\n\\n整个过程，采用计算图的形式，动态图，每次向前传播将重新构建。\\n\\n\\n计算图为有向无环图DAG\\n表示算子与变量之间的关系\\n圆形表示变量，矩形表示算子\\n\\n叶子节点是用户创建的变量，计算得到的变量是非叶子节点、根节点。\\n由变量和算子就构成一个完整的计算过程-->向前传播的过程\\nPyTorch调用backward()方法，将自动计算各节点的梯度，这是一个反向传播过程，就是链式求导\\n求所有叶子节点的梯度，将梯度值累加到grad属性中，非叶子记录在grad_fn中，叶子的grad_fn=None\\n'"
      ]
     },
     "execution_count": 7,
     "metadata": {},
     "output_type": "execute_result"
    }
   ],
   "source": [
    "\"\"\"\n",
    "求导\n",
    "1.创建叶子节点的Tensor,使用requires_gard参数指定是否记录对其的操作，\n",
    "以便以后利用backward()方法进行梯度求解，参数的缺省值为False,如果要对其\n",
    "求需设置成True,然后与之有依赖关系的节点会自动变为True。\n",
    "2.可利用requires_grad_()方法修改Tensor的requires_gard属性，\n",
    "可以调用.detach()或withtorch.no_grad():将不再计算张量的梯度，\n",
    "跟踪张量的历史记录。这点在评估模型、测试中常常用到。\n",
    "3.通过运算创建的Tensor(非叶子节点)，会自动被赋予grad_fn属性。\n",
    "该属性表示梯度函数。叶子节点的grad_fn为None\n",
    "4.最后得到的Tensor执行backward函数，此时自动计算各变量的梯度，\n",
    "并将结果保存到grad属性中。计算完成后，非叶子节点的梯度自动释放。\n",
    "5.backward()函数接收参数，该参数应和调用backward()函数的Tensor维度相同，\n",
    "或者是可broadcast的维度。\n",
    "6.反向传播的中间缓存会被清空，如果需要进行多次反向传播，需要指定backward中\n",
    "的参数retain_graph=True,多次反向传播时，梯度是累加的。\n",
    "7.非叶子节点的梯度backward调用后即被清空\n",
    "8.可以通过torch.no_gard()包裹代码块的形式阻止autograd去跟踪那些requires_gard标记为True的\n",
    "张量的历史记录\n",
    "\n",
    "整个过程，采用计算图的形式，动态图，每次向前传播将重新构建。\n",
    "\n",
    "\n",
    "计算图为有向无环图DAG\n",
    "表示算子与变量之间的关系\n",
    "圆形表示变量，矩形表示算子\n",
    "\n",
    "叶子节点是用户创建的变量，计算得到的变量是非叶子节点、根节点。\n",
    "由变量和算子就构成一个完整的计算过程-->向前传播的过程\n",
    "PyTorch调用backward()方法，将自动计算各节点的梯度，这是一个反向传播过程，就是链式求导\n",
    "求所有叶子节点的梯度，将梯度值累加到grad属性中，非叶子记录在grad_fn中，叶子的grad_fn=None\n",
    "\"\"\""
   ]
  },
  {
   "cell_type": "code",
   "execution_count": 8,
   "metadata": {},
   "outputs": [
    {
     "name": "stdout",
     "output_type": "stream",
     "text": [
      "参数w,b,x的梯度分别为：tensor([2.])，tensor([1.]),None\n"
     ]
    }
   ],
   "source": [
    "\"\"\"目标张量为标量\"\"\"\n",
    "x=torch.Tensor([2])#输入张量\n",
    "#初始化权重参数w，偏移量b，并设置require_grad属性为True,为自动求导\n",
    "w=torch.randn(1,requires_grad=True)\n",
    "b=torch.randn(1,requires_grad=True)\n",
    "#实现向前传播\n",
    "y=torch.mul(w,x)\n",
    "z=torch.add(y,b)\n",
    "#基于z张量进行梯度反向传播，执行backward之后计算图会自动清空\n",
    "z.backward()\n",
    "#如果需要多次使用backward,需要修改参数retain_graph为True,此时梯度是累加的z.backward(retain_graph=True)\n",
    "#查看叶子节点的梯度\n",
    "print(\"参数w,b,x的梯度分别为：{}，{},{}\".format(w.grad,b.grad,x.grad))\n",
    "#非叶子节点的梯度，执行backward之后，会自动清空"
   ]
  },
  {
   "cell_type": "code",
   "execution_count": 9,
   "metadata": {},
   "outputs": [
    {
     "ename": "SyntaxError",
     "evalue": "invalid syntax (<ipython-input-9-9f7ba9c4c663>, line 15)",
     "output_type": "error",
     "traceback": [
      "\u001b[1;36m  File \u001b[1;32m\"<ipython-input-9-9f7ba9c4c663>\"\u001b[1;36m, line \u001b[1;32m15\u001b[0m\n\u001b[1;33m    .backward(gardient=None,retain_garph=None,create_graph=False)\u001b[0m\n\u001b[1;37m    ^\u001b[0m\n\u001b[1;31mSyntaxError\u001b[0m\u001b[1;31m:\u001b[0m invalid syntax\n"
     ]
    }
   ],
   "source": [
    "\"\"\"非标量反向传播\"\"\"\n",
    "#在Pytorch中，不让张量对张量求导，只允许标量对张量求导\n",
    "\"\"\"\n",
    "一般目标张量是一个标量，比如Loss\n",
    "如果目标张量是非标量调用backward(),需要传入一个gradient参数\n",
    "该参数也是张量，而且需要调用backward()的张量形状相同\n",
    "传入这个参数就是为了把张量对张量的求导转换为标量对张量的求导\n",
    "假设目标loss=(y1,y2,......)\n",
    "传入参数v=(v1,v2,.......)\n",
    "可以把对loss的求导，转换为对loss*vT标量求导\n",
    "即把原来aloss/ax得到的雅可比矩阵乘以张量vT,便可得到需要的梯度矩阵\n",
    "\n",
    "就是高数里那个多元函数的求导，利用雅可比行列式\n",
    "\"\"\"\n",
    ".backward(gardient=None,retain_garph=None,create_graph=False)"
   ]
  },
  {
   "cell_type": "code",
   "execution_count": 10,
   "metadata": {},
   "outputs": [
    {
     "name": "stdout",
     "output_type": "stream",
     "text": [
      "tensor([[4., 3.],\n",
      "        [2., 6.]])\n"
     ]
    }
   ],
   "source": [
    "import torch\n",
    "#叶子节点张量x,形状1*2\n",
    "x=torch.tensor([[2,3]],dtype=torch.float,requires_grad=True)\n",
    "#初始化雅可比矩阵Jacobian\n",
    "J=torch.zeros(2,2)\n",
    "#初始化目标向量\n",
    "y=torch.zeros(1,2)\n",
    "y[0,0]=x[0,0]**2+3*x[0,1]\n",
    "y[0,1]=x[0,1]**2+2*x[0,0]\n",
    "#生成y1对x的梯度\n",
    "y.backward(torch.Tensor([[1,0]]),retain_graph=True)\n",
    "J[0]=x.grad\n",
    "#梯度是累加的，故需要对x的梯度清零\n",
    "x.grad=torch.zeros_like(x.grad)\n",
    "y.backward(torch.Tensor([[0,1]]))\n",
    "J[1]=x.grad\n",
    "print(J)"
   ]
  },
  {
   "cell_type": "code",
   "execution_count": 11,
   "metadata": {},
   "outputs": [
    {
     "data": {
      "image/png": "[encoded data removed]",
      "text/plain": [
       "<Figure size 432x288 with 1 Axes>"
      ]
     },
     "metadata": {
      "needs_background": "light"
     },
     "output_type": "display_data"
    }
   ],
   "source": [
    "\"\"\"使用Tensor和Antograd实现机器学习\"\"\"\n",
    "import torch as t\n",
    "%matplotlib inline\n",
    "from matplotlib import pyplot as plt\n",
    "#生成训练数据\n",
    "t.manual_seed(100)\n",
    "dtype=t.float\n",
    "x=t.unsqueeze(torch.linspace(-1,1,100),dim=1)\n",
    "y=3*x.pow(2)+2+0.2*torch.rand(x.size())\n",
    "\n",
    "plt.scatter(x.numpy(),y.numpy())\n",
    "plt.show()"
   ]
  },
  {
   "cell_type": "code",
   "execution_count": 22,
   "metadata": {},
   "outputs": [
    {
     "data": {
      "image/png": "[encoded data removed]",
      "text/plain": [
       "<Figure size 432x288 with 1 Axes>"
      ]
     },
     "metadata": {
      "needs_background": "light"
     },
     "output_type": "display_data"
    },
    {
     "name": "stdout",
     "output_type": "stream",
     "text": [
      "tensor([[2.9655]], requires_grad=True) tensor([[2.1143]], requires_grad=True)\n"
     ]
    }
   ],
   "source": [
    "#随机初始化参数，参数w\\b为需要学习的，故需requires_grad=True\n",
    "#w=t.randn(1,1,dtype=dtype)\n",
    "#w.requires_grad=True\n",
    "w=t.randn(1,1,dtype=dtype,requires_grad=True)\n",
    "b=t.zeros(1,1,dtype=dtype,requires_grad=True)\n",
    "\n",
    "#训练模型\n",
    "lr=0.001#学习率\n",
    "for ii in range(800):\n",
    "    #向前传播，并定义损失函数loss\n",
    "    y_pred=x.pow(2).mm(w)+b\n",
    "    loss=0.5*(y_pred-y)**2\n",
    "    loss=loss.sum()\n",
    "    #自动计算梯度，梯度存放在grad属性里\n",
    "    loss.backward()\n",
    "    #手动更新参数，需要用torch.no_grad(),使上下文环境中切断自动求导的计算\n",
    "    with t.no_grad():\n",
    "        w-=lr*w.grad\n",
    "        b-=lr*b.grad\n",
    "    #梯度清零\n",
    "        w.grad.zero_()\n",
    "        b.grad.zero_()\n",
    "        \n",
    "#可视化训练结果\n",
    "plt.plot(x.numpy(),y_pred.detach().numpy(),'r-',label='predict')\n",
    "#这个detach()创建一个新的tensor但是不具有梯度\n",
    "plt.scatter(x.numpy(),y.numpy(),color='blue',marker='o',label='true')\n",
    "plt.xlim(-1,1)\n",
    "plt.ylim(2,6)\n",
    "plt.legend()#标签\n",
    "plt.show()\n",
    "print(w,b)"
   ]
  },
  {
   "cell_type": "code",
   "execution_count": null,
   "metadata": {},
   "outputs": [],
   "source": [
    "#神经网络核心组件\n",
    "\"\"\"\n",
    "层 将输入张量转换为输出张量\n",
    "模型 层构成的网络\n",
    "损失函数 参数学习的目标函数，通过最小化损失函数来学习各种参数\n",
    "优化器 如何使损失最小\n",
    "\n",
    "\"\"\"\n",
    "#构建网络模型\n",
    "\n",
    "import numpy as np\n",
    "import torch\n",
    "\n",
    "from torchvision.datasets import mnist\n",
    "#导入预处理模块\n",
    "import torchvision.transforms as transforms\n",
    "from torch.utils.data import DataLoader\n",
    "#导入nn及优化器\n",
    "import torch.nn.functional as F\n",
    "import torch.optim as optim\n",
    "from torch import nn\n",
    "\n",
    "#定义一些超参数\n",
    "train_batch_size=64\n",
    "test_batch_size=128\n",
    "learning_rate=0.01\n",
    "num_epoches=20\n",
    "lr=0.01\n",
    "momentum=0.5\n",
    "\n",
    "#定义预处理函数，这些预处理依次放在Compose函数中\n",
    "transform = transform.Compose([transforms.ToTensor(),transform.Normalize([0.5],[0.5])])\n",
    "#transform.Compose可以把一些转换函数组合在一起\n",
    "#Normalize([0.5],[0,5])对张量进行归一化   全局平均值和方差\n",
    "\n",
    "#构建网络  继承Module类\n",
    "class Net(nn.Module):\n",
    "    \"\"\"\n",
    "     nn.Module 是所有神经网络单元（neural network modules）的基类\n",
    "    \n",
    "    使用sequential构建网络，Sequential()函数的功能是将网络的层组合到一起\n",
    "    \n",
    "    以下为各层神经元个数：\n",
    "输入： in_dim\n",
    "第一层： n_hidden_1\n",
    "第二层：n_hidden_2\n",
    "第三层（输出层）：out_dim\n",
    "    \"\"\"\n",
    "    def __init__(self,in_dim,n_hidden_1,n_hidden_2,out_dim):\n",
    "        super(Net,self).__init__()  #使用父类初始化方法，转换成Net的父类的对象\n",
    "        self.layer1=nn.Sequential(nn,Liner(in_dim,n_hidden_1),nn.BatchNorm1d(n_hidden_1))\n",
    "        # BatchNorm就是在深度神经网络训练过程中使得每一层神经网络的输入保持相同分布的\n",
    "        self.layer2=nn.Sequential(nn.Liner(n_hidden_1,n_hidden_2),nn.BatchNormld(n_hidden_1))\n",
    "        self.layer3=nn.Sequential(nn.Liner(n_hidden_2,out_dim))\n",
    "    def forward(self,x):\n",
    "        x=F.relu(self.layer1(x))\n",
    "        x=F.relu(self.layer2(x))\n",
    "        x=self.layer3(x)\n",
    "        return x\n",
    "    \n",
    "#检测是否有可用的GPU，有就用，没就CPU\n",
    "device=torch.device(\"cuda:0\"if torch.cuda.is_available() else \"cpu\")\n",
    "#实例化网络\n",
    "model=Net(28*28,300,100,10)\n",
    "model.to(device)\n",
    "\n",
    "#定义损失函数和优化器\n",
    "\n"
   ]
  },
  {
   "cell_type": "code",
   "execution_count": null,
   "metadata": {},
   "outputs": [],
   "source": []
  }
 ],
 "metadata": {
  "kernelspec": {
   "display_name": "Python 3",
   "language": "python",
   "name": "python3"
  },
  "language_info": {
   "codemirror_mode": {
    "name": "ipython",
    "version": 3
   },
   "file_extension": ".py",
   "mimetype": "text/x-python",
   "name": "python",
   "nbconvert_exporter": "python",
   "pygments_lexer": "ipython3",
   "version": "3.6.6"
  }
 },
 "nbformat": 4,
 "nbformat_minor": 2
}
